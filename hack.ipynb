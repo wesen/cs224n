{
 "cells": [
  {
   "cell_type": "code",
   "execution_count": 21,
   "metadata": {},
   "outputs": [],
   "source": [
    "import numpy as np\n",
    "import random\n",
    "\n",
    "%load_ext autoreload\n",
    "%autoreload 2"
   ]
  },
  {
   "cell_type": "code",
   "execution_count": 4,
   "metadata": {},
   "outputs": [],
   "source": [
    "    N = 20\n",
    "    dimensions = [10, 5, 10]\n",
    "    data = np.random.randn(N, dimensions[0])  # each row will be a datum\n",
    "    labels = np.zeros((N, dimensions[2]))\n",
    "    for i in range(N):\n",
    "        labels[i, random.randint(0, dimensions[2] - 1)] = 1\n",
    "\n",
    "    params = np.random.randn((dimensions[0] + 1) * dimensions[1] + (\n",
    "            dimensions[1] + 1) * dimensions[2], )"
   ]
  },
  {
   "cell_type": "code",
   "execution_count": 6,
   "metadata": {},
   "outputs": [
    {
     "data": {
      "text/plain": [
       "(20, 10)"
      ]
     },
     "execution_count": 6,
     "metadata": {},
     "output_type": "execute_result"
    }
   ],
   "source": [
    "data.shape"
   ]
  },
  {
   "cell_type": "code",
   "execution_count": 22,
   "metadata": {},
   "outputs": [],
   "source": [
    "from assignment1.q1_softmax import softmax"
   ]
  },
  {
   "cell_type": "code",
   "execution_count": 27,
   "metadata": {},
   "outputs": [
    {
     "data": {
      "text/plain": [
       "array([ 1.,  1.,  1.,  1.,  1.,  1.,  1.,  1.,  1.,  1.,  1.,  1.,  1.,\n",
       "        1.,  1.,  1.,  1.,  1.,  1.,  1.])"
      ]
     },
     "execution_count": 27,
     "metadata": {},
     "output_type": "execute_result"
    }
   ],
   "source": [
    "softmax(data).sum(axis=1)"
   ]
  },
  {
   "cell_type": "code",
   "execution_count": 11,
   "metadata": {},
   "outputs": [
    {
     "data": {
      "text/plain": [
       "array([ 16.99064267,  16.08363031,   7.69665904,  12.71287577,\n",
       "         9.68491545,  19.52149013,  21.03178492,  14.38523829,\n",
       "        14.24110662,  16.59169825,  17.57098878,  25.80688828,\n",
       "        18.01487528,  11.06743306,  29.7333699 ,   9.54116146,\n",
       "        14.05540793,  16.53827984,  11.90140579,  15.88546285])"
      ]
     },
     "execution_count": 11,
     "metadata": {},
     "output_type": "execute_result"
    }
   ],
   "source": [
    "ex = np.exp(data)\n",
    "sums = ex.sum(axis=1)\n",
    "sums"
   ]
  },
  {
   "cell_type": "code",
   "execution_count": 12,
   "metadata": {},
   "outputs": [
    {
     "ename": "ValueError",
     "evalue": "operands could not be broadcast together with shapes (20,10) (20,) ",
     "output_type": "error",
     "traceback": [
      "\u001b[0;31m---------------------------------------------------------------------------\u001b[0m",
      "\u001b[0;31mValueError\u001b[0m                                Traceback (most recent call last)",
      "\u001b[0;32m<ipython-input-12-24a8d42d94dc>\u001b[0m in \u001b[0;36m<module>\u001b[0;34m()\u001b[0m\n\u001b[0;32m----> 1\u001b[0;31m \u001b[0mnp\u001b[0m\u001b[0;34m.\u001b[0m\u001b[0mmultiply\u001b[0m\u001b[0;34m(\u001b[0m\u001b[0mex\u001b[0m\u001b[0;34m,\u001b[0m \u001b[0msums\u001b[0m\u001b[0;34m)\u001b[0m\u001b[0;34m\u001b[0m\u001b[0m\n\u001b[0m",
      "\u001b[0;31mValueError\u001b[0m: operands could not be broadcast together with shapes (20,10) (20,) "
     ]
    }
   ],
   "source": [
    "np.multiply(ex, sums)"
   ]
  },
  {
   "cell_type": "code",
   "execution_count": 17,
   "metadata": {},
   "outputs": [
    {
     "data": {
      "text/plain": [
       "array([  698.42635066,   354.37654526,  1169.91574178,   413.33153941,\n",
       "         417.33700806,   317.89568787,   877.79976637,   601.21146766,\n",
       "         427.86006919,   354.24405162])"
      ]
     },
     "execution_count": 17,
     "metadata": {},
     "output_type": "execute_result"
    }
   ],
   "source": [
    "np.dot(ex.T, sums)"
   ]
  },
  {
   "cell_type": "code",
   "execution_count": 24,
   "metadata": {},
   "outputs": [
    {
     "data": {
      "text/plain": [
       "array([[ 0.13749321,  0.1515125 ,  0.16807168,  0.05502915,  0.03842324,\n",
       "         0.09328184,  0.07186788,  0.12720221,  0.02713035,  0.12998795],\n",
       "       [ 0.2228302 ,  0.01362823,  0.34449848,  0.04057838,  0.0567988 ,\n",
       "         0.04041139,  0.15021309,  0.10341426,  0.01900883,  0.00861835],\n",
       "       [ 0.07689968,  0.0849382 ,  0.08171864,  0.08542371,  0.04309778,\n",
       "         0.11073962,  0.26626881,  0.10955216,  0.05124495,  0.09011644],\n",
       "       [ 0.06596288,  0.09691686,  0.20609593,  0.06576031,  0.03319227,\n",
       "         0.05854551,  0.18496166,  0.10844468,  0.04720406,  0.13291584],\n",
       "       [ 0.05966237,  0.03170285,  0.35338635,  0.08654355,  0.06810855,\n",
       "         0.08484074,  0.18628363,  0.04278504,  0.06235928,  0.02432765],\n",
       "       [ 0.13774853,  0.0251365 ,  0.12186038,  0.02806917,  0.03007844,\n",
       "         0.05325864,  0.39998145,  0.12333917,  0.01169719,  0.06883052],\n",
       "       [ 0.30966686,  0.02177259,  0.272292  ,  0.02460045,  0.03118405,\n",
       "         0.02183125,  0.16021236,  0.06861456,  0.07053253,  0.01929335],\n",
       "       [ 0.00899882,  0.04636814,  0.36593548,  0.13744118,  0.05161099,\n",
       "         0.06594594,  0.08740584,  0.14059092,  0.04435526,  0.05134743],\n",
       "       [ 0.08527852,  0.1454681 ,  0.01199997,  0.0115176 ,  0.0295823 ,\n",
       "         0.06991777,  0.16561074,  0.34381191,  0.10244395,  0.03436915],\n",
       "       [ 0.10080771,  0.04744134,  0.08424312,  0.03559866,  0.02841391,\n",
       "         0.32442441,  0.00897969,  0.03930303,  0.17916069,  0.15162744],\n",
       "       [ 0.07486586,  0.05160432,  0.09400093,  0.03934082,  0.05517624,\n",
       "         0.01385811,  0.02995596,  0.5365944 ,  0.04645772,  0.05814564],\n",
       "       [ 0.07915477,  0.0110922 ,  0.70799268,  0.01180256,  0.01525534,\n",
       "         0.01952955,  0.04054494,  0.05267297,  0.04115213,  0.02080285],\n",
       "       [ 0.07163213,  0.14190495,  0.08627018,  0.44439085,  0.00891302,\n",
       "         0.03314093,  0.05016831,  0.0296454 ,  0.07573288,  0.05820135],\n",
       "       [ 0.37896094,  0.02337925,  0.2263545 ,  0.03001326,  0.03448863,\n",
       "         0.09216992,  0.02481275,  0.01358406,  0.0197832 ,  0.15645349],\n",
       "       [ 0.07372489,  0.0258673 ,  0.02038614,  0.02204379,  0.28702092,\n",
       "         0.0097429 ,  0.30752724,  0.03290567,  0.15193291,  0.06884824],\n",
       "       [ 0.02046836,  0.23909875,  0.03445551,  0.18042798,  0.15592157,\n",
       "         0.12692284,  0.12142648,  0.02295448,  0.028904  ,  0.06942003],\n",
       "       [ 0.12681025,  0.01462163,  0.25010142,  0.20495932,  0.03868688,\n",
       "         0.11056166,  0.02211784,  0.02264843,  0.18977973,  0.01971284],\n",
       "       [ 0.13992764,  0.22944132,  0.03702176,  0.12282128,  0.01710474,\n",
       "         0.03323733,  0.19491536,  0.18123459,  0.01623532,  0.02806065],\n",
       "       [ 0.09686281,  0.11392016,  0.33573786,  0.06680439,  0.0134237 ,\n",
       "         0.10983058,  0.05798405,  0.01860918,  0.10385823,  0.08296903],\n",
       "       [ 0.2152524 ,  0.05319953,  0.0326384 ,  0.05398837,  0.04363746,\n",
       "         0.01370009,  0.29013852,  0.09043428,  0.08448168,  0.12252928]])"
      ]
     },
     "execution_count": 24,
     "metadata": {},
     "output_type": "execute_result"
    }
   ],
   "source": [
    "ex / sums[:,None]"
   ]
  },
  {
   "cell_type": "code",
   "execution_count": 30,
   "metadata": {},
   "outputs": [
    {
     "data": {
      "text/plain": [
       "(3, 3, 2)"
      ]
     },
     "execution_count": 30,
     "metadata": {},
     "output_type": "execute_result"
    }
   ],
   "source": [
    "np.reshape(range(18), (3,3,2)).shape"
   ]
  },
  {
   "cell_type": "code",
   "execution_count": 35,
   "metadata": {},
   "outputs": [],
   "source": [
    "a = np.reshape(range(18), (3,3,2))"
   ]
  },
  {
   "cell_type": "code",
   "execution_count": 36,
   "metadata": {},
   "outputs": [
    {
     "data": {
      "text/plain": [
       "array([[[ 0,  1],\n",
       "        [ 2,  3],\n",
       "        [ 4,  5]],\n",
       "\n",
       "       [[ 6,  7],\n",
       "        [ 8,  9],\n",
       "        [10, 11]],\n",
       "\n",
       "       [[12, 13],\n",
       "        [14, 15],\n",
       "        [16, 17]]])"
      ]
     },
     "execution_count": 36,
     "metadata": {},
     "output_type": "execute_result"
    }
   ],
   "source": [
    "a"
   ]
  },
  {
   "cell_type": "code",
   "execution_count": 32,
   "metadata": {},
   "outputs": [
    {
     "data": {
      "text/plain": [
       "array([[[ 0,  2],\n",
       "        [ 4,  6],\n",
       "        [ 8, 10]],\n",
       "\n",
       "       [[12, 14],\n",
       "        [16, 18],\n",
       "        [20, 22]],\n",
       "\n",
       "       [[24, 26],\n",
       "        [28, 30],\n",
       "        [32, 34]]])"
      ]
     },
     "execution_count": 32,
     "metadata": {},
     "output_type": "execute_result"
    }
   ],
   "source": [
    "a * 2"
   ]
  },
  {
   "cell_type": "code",
   "execution_count": 37,
   "metadata": {},
   "outputs": [
    {
     "data": {
      "text/plain": [
       "array([[0, 1],\n",
       "       [2, 3],\n",
       "       [4, 5]])"
      ]
     },
     "execution_count": 37,
     "metadata": {},
     "output_type": "execute_result"
    }
   ],
   "source": [
    "b = np.reshape(range(6), (3,2))\n",
    "b"
   ]
  },
  {
   "cell_type": "code",
   "execution_count": 38,
   "metadata": {},
   "outputs": [
    {
     "data": {
      "text/plain": [
       "array([[[ 0,  1],\n",
       "        [ 4,  9],\n",
       "        [16, 25]],\n",
       "\n",
       "       [[ 0,  7],\n",
       "        [16, 27],\n",
       "        [40, 55]],\n",
       "\n",
       "       [[ 0, 13],\n",
       "        [28, 45],\n",
       "        [64, 85]]])"
      ]
     },
     "execution_count": 38,
     "metadata": {},
     "output_type": "execute_result"
    }
   ],
   "source": [
    "a * np.reshape(range(6), (3,2))"
   ]
  },
  {
   "cell_type": "code",
   "execution_count": 39,
   "metadata": {},
   "outputs": [],
   "source": [
    "c = np.reshape(range(9), (3,3))"
   ]
  },
  {
   "cell_type": "code",
   "execution_count": 40,
   "metadata": {},
   "outputs": [
    {
     "ename": "ValueError",
     "evalue": "operands could not be broadcast together with shapes (3,3,2) (3,3) ",
     "output_type": "error",
     "traceback": [
      "\u001b[0;31m---------------------------------------------------------------------------\u001b[0m",
      "\u001b[0;31mValueError\u001b[0m                                Traceback (most recent call last)",
      "\u001b[0;32m<ipython-input-40-3f6f667472ca>\u001b[0m in \u001b[0;36m<module>\u001b[0;34m()\u001b[0m\n\u001b[0;32m----> 1\u001b[0;31m \u001b[0ma\u001b[0m \u001b[0;34m*\u001b[0m \u001b[0mc\u001b[0m\u001b[0;34m\u001b[0m\u001b[0m\n\u001b[0m",
      "\u001b[0;31mValueError\u001b[0m: operands could not be broadcast together with shapes (3,3,2) (3,3) "
     ]
    }
   ],
   "source": [
    "a * c"
   ]
  },
  {
   "cell_type": "code",
   "execution_count": 43,
   "metadata": {},
   "outputs": [
    {
     "data": {
      "text/plain": [
       "(3, 3, 1)"
      ]
     },
     "execution_count": 43,
     "metadata": {},
     "output_type": "execute_result"
    }
   ],
   "source": [
    "c[:,:,None].shape"
   ]
  },
  {
   "cell_type": "code",
   "execution_count": 44,
   "metadata": {},
   "outputs": [
    {
     "data": {
      "text/plain": [
       "array([[[  0,   0],\n",
       "        [  2,   3],\n",
       "        [  8,  10]],\n",
       "\n",
       "       [[ 18,  21],\n",
       "        [ 32,  36],\n",
       "        [ 50,  55]],\n",
       "\n",
       "       [[ 72,  78],\n",
       "        [ 98, 105],\n",
       "        [128, 136]]])"
      ]
     },
     "execution_count": 44,
     "metadata": {},
     "output_type": "execute_result"
    }
   ],
   "source": [
    "a * c[:,:,None]"
   ]
  },
  {
   "cell_type": "code",
   "execution_count": 45,
   "metadata": {},
   "outputs": [
    {
     "data": {
      "text/plain": [
       "array([[[0],\n",
       "        [1],\n",
       "        [2]],\n",
       "\n",
       "       [[3],\n",
       "        [4],\n",
       "        [5]],\n",
       "\n",
       "       [[6],\n",
       "        [7],\n",
       "        [8]]])"
      ]
     },
     "execution_count": 45,
     "metadata": {},
     "output_type": "execute_result"
    }
   ],
   "source": [
    "c[:,:,None]"
   ]
  },
  {
   "cell_type": "code",
   "execution_count": 46,
   "metadata": {},
   "outputs": [
    {
     "data": {
      "text/plain": [
       "array([[0, 1, 2],\n",
       "       [3, 4, 5],\n",
       "       [6, 7, 8]])"
      ]
     },
     "execution_count": 46,
     "metadata": {},
     "output_type": "execute_result"
    }
   ],
   "source": [
    "c"
   ]
  },
  {
   "cell_type": "code",
   "execution_count": 47,
   "metadata": {},
   "outputs": [
    {
     "data": {
      "text/plain": [
       "array([[[0, 1, 2]],\n",
       "\n",
       "       [[3, 4, 5]],\n",
       "\n",
       "       [[6, 7, 8]]])"
      ]
     },
     "execution_count": 47,
     "metadata": {},
     "output_type": "execute_result"
    }
   ],
   "source": [
    "c[:,None]"
   ]
  },
  {
   "cell_type": "code",
   "execution_count": 50,
   "metadata": {},
   "outputs": [
    {
     "data": {
      "text/plain": [
       "array([0, 1, 2, 3, 4, 5, 6, 7, 8, 9])"
      ]
     },
     "execution_count": 50,
     "metadata": {},
     "output_type": "execute_result"
    }
   ],
   "source": [
    "np.arange(10)"
   ]
  },
  {
   "cell_type": "code",
   "execution_count": 52,
   "metadata": {},
   "outputs": [
    {
     "data": {
      "text/plain": [
       "array([[ True,  True,  True],\n",
       "       [ True,  True,  True],\n",
       "       [ True,  True,  True]], dtype=bool)"
      ]
     },
     "execution_count": 52,
     "metadata": {},
     "output_type": "execute_result"
    }
   ],
   "source": [
    "np.ones((3,3), dtype=np.bool)"
   ]
  },
  {
   "cell_type": "code",
   "execution_count": 53,
   "metadata": {},
   "outputs": [
    {
     "ename": "TypeError",
     "evalue": "'shape' is an invalid keyword argument for this function",
     "output_type": "error",
     "traceback": [
      "\u001b[0;31m---------------------------------------------------------------------------\u001b[0m",
      "\u001b[0;31mTypeError\u001b[0m                                 Traceback (most recent call last)",
      "\u001b[0;32m<ipython-input-53-81af0ef075f3>\u001b[0m in \u001b[0;36m<module>\u001b[0;34m()\u001b[0m\n\u001b[0;32m----> 1\u001b[0;31m \u001b[0marr\u001b[0m \u001b[0;34m=\u001b[0m \u001b[0mnp\u001b[0m\u001b[0;34m.\u001b[0m\u001b[0marange\u001b[0m\u001b[0;34m(\u001b[0m\u001b[0;36m18\u001b[0m\u001b[0;34m,\u001b[0m\u001b[0mshape\u001b[0m\u001b[0;34m=\u001b[0m\u001b[0;34m(\u001b[0m\u001b[0;36m3\u001b[0m\u001b[0;34m,\u001b[0m\u001b[0;36m3\u001b[0m\u001b[0;34m,\u001b[0m\u001b[0;36m2\u001b[0m\u001b[0;34m)\u001b[0m\u001b[0;34m)\u001b[0m\u001b[0;34m\u001b[0m\u001b[0m\n\u001b[0m",
      "\u001b[0;31mTypeError\u001b[0m: 'shape' is an invalid keyword argument for this function"
     ]
    }
   ],
   "source": [
    "arr = np.arange(18,shape=(3,3,2))"
   ]
  },
  {
   "cell_type": "code",
   "execution_count": 54,
   "metadata": {},
   "outputs": [
    {
     "name": "stdout",
     "output_type": "stream",
     "text": [
      "     *** Found in numpy ***\n",
      "arange([start,] stop[, step,], dtype=None)\n",
      "\n",
      "Return evenly spaced values within a given interval.\n",
      "\n",
      "Values are generated within the half-open interval ``[start, stop)``\n",
      "(in other words, the interval including `start` but excluding `stop`).\n",
      "For integer arguments the function is equivalent to the Python built-in\n",
      "`range <http://docs.python.org/lib/built-in-funcs.html>`_ function,\n",
      "but returns an ndarray rather than a list.\n",
      "\n",
      "When using a non-integer step, such as 0.1, the results will often not\n",
      "be consistent.  It is better to use ``linspace`` for these cases.\n",
      "\n",
      "Parameters\n",
      "----------\n",
      "start : number, optional\n",
      "    Start of interval.  The interval includes this value.  The default\n",
      "    start value is 0.\n",
      "stop : number\n",
      "    End of interval.  The interval does not include this value, except\n",
      "    in some cases where `step` is not an integer and floating point\n",
      "    round-off affects the length of `out`.\n",
      "step : number, optional\n",
      "    Spacing between values.  For any output `out`, this is the distance\n",
      "    between two adjacent values, ``out[i+1] - out[i]``.  The default\n",
      "    step size is 1.  If `step` is specified, `start` must also be given.\n",
      "dtype : dtype\n",
      "    The type of the output array.  If `dtype` is not given, infer the data\n",
      "    type from the other input arguments.\n",
      "\n",
      "Returns\n",
      "-------\n",
      "arange : ndarray\n",
      "    Array of evenly spaced values.\n",
      "\n",
      "    For floating point arguments, the length of the result is\n",
      "    ``ceil((stop - start)/step)``.  Because of floating point overflow,\n",
      "    this rule may result in the last element of `out` being greater\n",
      "    than `stop`.\n",
      "\n",
      "See Also\n",
      "--------\n",
      "linspace : Evenly spaced numbers with careful handling of endpoints.\n",
      "ogrid: Arrays of evenly spaced numbers in N-dimensions.\n",
      "mgrid: Grid-shaped arrays of evenly spaced numbers in N-dimensions.\n",
      "\n",
      "Examples\n",
      "--------\n",
      ">>> np.arange(3)\n",
      "array([0, 1, 2])\n",
      ">>> np.arange(3.0)\n",
      "array([ 0.,  1.,  2.])\n",
      ">>> np.arange(3,7)\n",
      "array([3, 4, 5, 6])\n",
      ">>> np.arange(3,7,2)\n",
      "array([3, 5])\n",
      "----------------------------------------------------------------------------\n",
      "\n",
      "     *** Repeat reference found in numpy.core *** \n",
      "     *** Found in numpy.ma ***\n",
      "arange([start,] stop[, step,], dtype=None)\n",
      "\n",
      "Return evenly spaced values within a given interval.\n",
      "\n",
      "Values are generated within the half-open interval ``[start, stop)``\n",
      "(in other words, the interval including `start` but excluding `stop`).\n",
      "For integer arguments the function is equivalent to the Python built-in\n",
      "`range <http://docs.python.org/lib/built-in-funcs.html>`_ function,\n",
      "but returns an ndarray rather than a list.\n",
      "\n",
      "When using a non-integer step, such as 0.1, the results will often not\n",
      "be consistent.  It is better to use ``linspace`` for these cases.\n",
      "\n",
      "Parameters\n",
      "----------\n",
      "start : number, optional\n",
      "    Start of interval.  The interval includes this value.  The default\n",
      "    start value is 0.\n",
      "stop : number\n",
      "    End of interval.  The interval does not include this value, except\n",
      "    in some cases where `step` is not an integer and floating point\n",
      "    round-off affects the length of `out`.\n",
      "step : number, optional\n",
      "    Spacing between values.  For any output `out`, this is the distance\n",
      "    between two adjacent values, ``out[i+1] - out[i]``.  The default\n",
      "    step size is 1.  If `step` is specified, `start` must also be given.\n",
      "dtype : dtype\n",
      "    The type of the output array.  If `dtype` is not given, infer the data\n",
      "    type from the other input arguments.\n",
      "\n",
      "Returns\n",
      "-------\n",
      "arange : ndarray\n",
      "    Array of evenly spaced values.\n",
      "\n",
      "    For floating point arguments, the length of the result is\n",
      "    ``ceil((stop - start)/step)``.  Because of floating point overflow,\n",
      "    this rule may result in the last element of `out` being greater\n",
      "    than `stop`.\n",
      "\n",
      "See Also\n",
      "--------\n",
      "linspace : Evenly spaced numbers with careful handling of endpoints.\n",
      "ogrid: Arrays of evenly spaced numbers in N-dimensions.\n",
      "mgrid: Grid-shaped arrays of evenly spaced numbers in N-dimensions.\n",
      "\n",
      "Examples\n",
      "--------\n",
      ">>> np.arange(3)\n",
      "array([0, 1, 2])\n",
      ">>> np.arange(3.0)\n",
      "array([ 0.,  1.,  2.])\n",
      ">>> np.arange(3,7)\n",
      "array([3, 4, 5, 6])\n",
      ">>> np.arange(3,7,2)\n",
      "array([3, 5])\n",
      "----------------------------------------------------------------------------\n",
      "\n",
      "     *** Repeat reference found in numpy.core.numeric *** \n",
      "\n",
      "     *** Repeat reference found in numpy.core.multiarray *** \n",
      "\n",
      "     *** Repeat reference found in numpy.lib.twodim_base *** \n",
      "\n",
      "     *** Repeat reference found in numpy.lib.index_tricks *** \n",
      "\n",
      "     *** Repeat reference found in numpy.lib.function_base *** \n",
      "\n",
      "     *** Repeat reference found in numpy.ma.core *** \n",
      "\n",
      "     *** Repeat reference found in numpy.testing.utils *** \n",
      "\n",
      "     *** Repeat reference found in numpy.fft.helper *** \n",
      "\n",
      "     *** Total of 11 references found. ***\n"
     ]
    }
   ],
   "source": [
    "np.info(\"arange\")"
   ]
  },
  {
   "cell_type": "code",
   "execution_count": 55,
   "metadata": {},
   "outputs": [
    {
     "name": "stdout",
     "output_type": "stream",
     "text": [
      "`nd_grid` instance which returns a dense multi-dimensional \"meshgrid\".\n",
      "\n",
      "An instance of `numpy.lib.index_tricks.nd_grid` which returns an dense\n",
      "(or fleshed out) mesh-grid when indexed, so that each returned argument\n",
      "has the same shape.  The dimensions and number of the output arrays are\n",
      "equal to the number of indexing dimensions.  If the step length is not a\n",
      "complex number, then the stop is not inclusive.\n",
      "\n",
      "However, if the step length is a **complex number** (e.g. 5j), then\n",
      "the integer part of its magnitude is interpreted as specifying the\n",
      "number of points to create between the start and stop values, where\n",
      "the stop value **is inclusive**.\n",
      "\n",
      "Returns\n",
      "----------\n",
      "mesh-grid `ndarrays` all of the same dimensions\n",
      "\n",
      "See Also\n",
      "--------\n",
      "numpy.lib.index_tricks.nd_grid : class of `ogrid` and `mgrid` objects\n",
      "ogrid : like mgrid but returns open (not fleshed out) mesh grids\n",
      "r_ : array concatenator\n",
      "\n",
      "Examples\n",
      "--------\n",
      ">>> np.mgrid[0:5,0:5]\n",
      "array([[[0, 0, 0, 0, 0],\n",
      "        [1, 1, 1, 1, 1],\n",
      "        [2, 2, 2, 2, 2],\n",
      "        [3, 3, 3, 3, 3],\n",
      "        [4, 4, 4, 4, 4]],\n",
      "       [[0, 1, 2, 3, 4],\n",
      "        [0, 1, 2, 3, 4],\n",
      "        [0, 1, 2, 3, 4],\n",
      "        [0, 1, 2, 3, 4],\n",
      "        [0, 1, 2, 3, 4]]])\n",
      ">>> np.mgrid[-1:1:5j]\n",
      "array([-1. , -0.5,  0. ,  0.5,  1. ])\n"
     ]
    }
   ],
   "source": [
    "np.info(np.mgrid)"
   ]
  },
  {
   "cell_type": "code",
   "execution_count": 58,
   "metadata": {},
   "outputs": [
    {
     "data": {
      "text/plain": [
       "(2, 3, 3)"
      ]
     },
     "execution_count": 58,
     "metadata": {},
     "output_type": "execute_result"
    }
   ],
   "source": [
    "np.mgrid[0:3,0:3].shape"
   ]
  },
  {
   "cell_type": "code",
   "execution_count": 65,
   "metadata": {},
   "outputs": [
    {
     "data": {
      "text/plain": [
       "array([[[0, 0, 0],\n",
       "        [1, 1, 1],\n",
       "        [2, 2, 2]],\n",
       "\n",
       "       [[0, 1, 2],\n",
       "        [0, 1, 2],\n",
       "        [0, 1, 2]]])"
      ]
     },
     "execution_count": 65,
     "metadata": {},
     "output_type": "execute_result"
    }
   ],
   "source": [
    "np.mgrid[0:3,0:3]"
   ]
  },
  {
   "cell_type": "code",
   "execution_count": 66,
   "metadata": {},
   "outputs": [],
   "source": [
    "?np.ogrid\n"
   ]
  },
  {
   "cell_type": "code",
   "execution_count": 68,
   "metadata": {},
   "outputs": [
    {
     "data": {
      "text/plain": [
       "array([[ True, False,  True],\n",
       "       [False,  True, False],\n",
       "       [ True, False,  True]], dtype=bool)"
      ]
     },
     "execution_count": 68,
     "metadata": {},
     "output_type": "execute_result"
    }
   ],
   "source": [
    "np.reshape(np.arange(9), (3,3)) % 2 == 0"
   ]
  },
  {
   "cell_type": "code",
   "execution_count": 69,
   "metadata": {},
   "outputs": [
    {
     "data": {
      "text/plain": [
       "array([0, 2, 4, 6, 8])"
      ]
     },
     "execution_count": 69,
     "metadata": {},
     "output_type": "execute_result"
    }
   ],
   "source": [
    "a = np.reshape(np.arange(9), (3,3))\n",
    "a[a % 2 == 0]"
   ]
  },
  {
   "cell_type": "code",
   "execution_count": 70,
   "metadata": {},
   "outputs": [],
   "source": [
    "a[a % 2 == 1] = -1"
   ]
  },
  {
   "cell_type": "code",
   "execution_count": 71,
   "metadata": {},
   "outputs": [
    {
     "data": {
      "text/plain": [
       "array([[ 0, -1,  2],\n",
       "       [-1,  4, -1],\n",
       "       [ 6, -1,  8]])"
      ]
     },
     "execution_count": 71,
     "metadata": {},
     "output_type": "execute_result"
    }
   ],
   "source": [
    "a"
   ]
  },
  {
   "cell_type": "code",
   "execution_count": 74,
   "metadata": {},
   "outputs": [],
   "source": [
    "a = np.reshape(np.arange(9), (3,3))\n",
    "out = a.copy()\n",
    "out[a % 2 == 1] = -1"
   ]
  },
  {
   "cell_type": "code",
   "execution_count": 75,
   "metadata": {},
   "outputs": [
    {
     "data": {
      "text/plain": [
       "array([[0, 1, 2],\n",
       "       [3, 4, 5],\n",
       "       [6, 7, 8]])"
      ]
     },
     "execution_count": 75,
     "metadata": {},
     "output_type": "execute_result"
    }
   ],
   "source": [
    "a"
   ]
  },
  {
   "cell_type": "code",
   "execution_count": 76,
   "metadata": {},
   "outputs": [
    {
     "data": {
      "text/plain": [
       "array([[ 0, -1,  2],\n",
       "       [-1,  4, -1],\n",
       "       [ 6, -1,  8]])"
      ]
     },
     "execution_count": 76,
     "metadata": {},
     "output_type": "execute_result"
    }
   ],
   "source": [
    "out"
   ]
  },
  {
   "cell_type": "code",
   "execution_count": 77,
   "metadata": {},
   "outputs": [
    {
     "data": {
      "text/plain": [
       "array([[ 0, -1,  2],\n",
       "       [-1,  4, -1],\n",
       "       [ 6, -1,  8]])"
      ]
     },
     "execution_count": 77,
     "metadata": {},
     "output_type": "execute_result"
    }
   ],
   "source": [
    "np.where(a % 2 == 1, -1, a)"
   ]
  },
  {
   "cell_type": "code",
   "execution_count": 78,
   "metadata": {},
   "outputs": [],
   "source": [
    "a = np.arange(10).reshape(2,-1)\n",
    "b = np.repeat(1, 10).reshape(2,-1)"
   ]
  },
  {
   "cell_type": "code",
   "execution_count": 79,
   "metadata": {},
   "outputs": [
    {
     "data": {
      "text/plain": [
       "array([[0, 1, 2, 3, 4],\n",
       "       [5, 6, 7, 8, 9]])"
      ]
     },
     "execution_count": 79,
     "metadata": {},
     "output_type": "execute_result"
    }
   ],
   "source": [
    "a"
   ]
  },
  {
   "cell_type": "code",
   "execution_count": 80,
   "metadata": {},
   "outputs": [
    {
     "data": {
      "text/plain": [
       "array([[1, 1, 1, 1, 1],\n",
       "       [1, 1, 1, 1, 1]])"
      ]
     },
     "execution_count": 80,
     "metadata": {},
     "output_type": "execute_result"
    }
   ],
   "source": [
    "b"
   ]
  },
  {
   "cell_type": "code",
   "execution_count": 82,
   "metadata": {},
   "outputs": [
    {
     "data": {
      "text/plain": [
       "array([[0, 1, 2, 3, 4],\n",
       "       [5, 6, 7, 8, 9],\n",
       "       [1, 1, 1, 1, 1],\n",
       "       [1, 1, 1, 1, 1]])"
      ]
     },
     "execution_count": 82,
     "metadata": {},
     "output_type": "execute_result"
    }
   ],
   "source": [
    "np.vstack((a,b))"
   ]
  },
  {
   "cell_type": "code",
   "execution_count": 83,
   "metadata": {},
   "outputs": [
    {
     "name": "stdout",
     "output_type": "stream",
     "text": [
      "Translates slice objects to concatenation along the first axis.\n",
      "\n",
      "This is a simple way to build up arrays quickly. There are two use cases.\n",
      "\n",
      "1. If the index expression contains comma separated arrays, then stack\n",
      "   them along their first axis.\n",
      "2. If the index expression contains slice notation or scalars then create\n",
      "   a 1-D array with a range indicated by the slice notation.\n",
      "\n",
      "If slice notation is used, the syntax ``start:stop:step`` is equivalent\n",
      "to ``np.arange(start, stop, step)`` inside of the brackets. However, if\n",
      "``step`` is an imaginary number (i.e. 100j) then its integer portion is\n",
      "interpreted as a number-of-points desired and the start and stop are\n",
      "inclusive. In other words ``start:stop:stepj`` is interpreted as\n",
      "``np.linspace(start, stop, step, endpoint=1)`` inside of the brackets.\n",
      "After expansion of slice notation, all comma separated sequences are\n",
      "concatenated together.\n",
      "\n",
      "Optional character strings placed as the first element of the index\n",
      "expression can be used to change the output. The strings 'r' or 'c' result\n",
      "in matrix output. If the result is 1-D and 'r' is specified a 1 x N (row)\n",
      "matrix is produced. If the result is 1-D and 'c' is specified, then a N x 1\n",
      "(column) matrix is produced. If the result is 2-D then both provide the\n",
      "same matrix result.\n",
      "\n",
      "A string integer specifies which axis to stack multiple comma separated\n",
      "arrays along. A string of two comma-separated integers allows indication\n",
      "of the minimum number of dimensions to force each entry into as the\n",
      "second integer (the axis to concatenate along is still the first integer).\n",
      "\n",
      "A string with three comma-separated integers allows specification of the\n",
      "axis to concatenate along, the minimum number of dimensions to force the\n",
      "entries to, and which axis should contain the start of the arrays which\n",
      "are less than the specified number of dimensions. In other words the third\n",
      "integer allows you to specify where the 1's should be placed in the shape\n",
      "of the arrays that have their shapes upgraded. By default, they are placed\n",
      "in the front of the shape tuple. The third argument allows you to specify\n",
      "where the start of the array should be instead. Thus, a third argument of\n",
      "'0' would place the 1's at the end of the array shape. Negative integers\n",
      "specify where in the new shape tuple the last dimension of upgraded arrays\n",
      "should be placed, so the default is '-1'.\n",
      "\n",
      "Parameters\n",
      "----------\n",
      "Not a function, so takes no parameters\n",
      "\n",
      "\n",
      "Returns\n",
      "-------\n",
      "A concatenated ndarray or matrix.\n",
      "\n",
      "See Also\n",
      "--------\n",
      "concatenate : Join a sequence of arrays along an existing axis.\n",
      "c_ : Translates slice objects to concatenation along the second axis.\n",
      "\n",
      "Examples\n",
      "--------\n",
      ">>> np.r_[np.array([1,2,3]), 0, 0, np.array([4,5,6])]\n",
      "array([1, 2, 3, 0, 0, 4, 5, 6])\n",
      ">>> np.r_[-1:1:6j, [0]*3, 5, 6]\n",
      "array([-1. , -0.6, -0.2,  0.2,  0.6,  1. ,  0. ,  0. ,  0. ,  5. ,  6. ])\n",
      "\n",
      "String integers specify the axis to concatenate along or the minimum\n",
      "number of dimensions to force entries into.\n",
      "\n",
      ">>> a = np.array([[0, 1, 2], [3, 4, 5]])\n",
      ">>> np.r_['-1', a, a] # concatenate along last axis\n",
      "array([[0, 1, 2, 0, 1, 2],\n",
      "       [3, 4, 5, 3, 4, 5]])\n",
      ">>> np.r_['0,2', [1,2,3], [4,5,6]] # concatenate along first axis, dim>=2\n",
      "array([[1, 2, 3],\n",
      "       [4, 5, 6]])\n",
      "\n",
      ">>> np.r_['0,2,0', [1,2,3], [4,5,6]]\n",
      "array([[1],\n",
      "       [2],\n",
      "       [3],\n",
      "       [4],\n",
      "       [5],\n",
      "       [6]])\n",
      ">>> np.r_['1,2,0', [1,2,3], [4,5,6]]\n",
      "array([[1, 4],\n",
      "       [2, 5],\n",
      "       [3, 6]])\n",
      "\n",
      "Using 'r' or 'c' as a first string argument creates a matrix.\n",
      "\n",
      ">>> np.r_['r',[1,2,3], [4,5,6]]\n",
      "matrix([[1, 2, 3, 4, 5, 6]])\n"
     ]
    }
   ],
   "source": [
    "np.info(np.r_)"
   ]
  },
  {
   "cell_type": "code",
   "execution_count": 84,
   "metadata": {},
   "outputs": [
    {
     "data": {
      "text/plain": [
       "array([[0, 1, 2, 3, 4, 1, 1, 1, 1, 1],\n",
       "       [5, 6, 7, 8, 9, 1, 1, 1, 1, 1]])"
      ]
     },
     "execution_count": 84,
     "metadata": {},
     "output_type": "execute_result"
    }
   ],
   "source": [
    "np.hstack([a,b])"
   ]
  },
  {
   "cell_type": "code",
   "execution_count": 85,
   "metadata": {},
   "outputs": [
    {
     "data": {
      "text/plain": [
       "array([[0, 1, 2, 3, 4, 1, 1, 1, 1, 1],\n",
       "       [5, 6, 7, 8, 9, 1, 1, 1, 1, 1]])"
      ]
     },
     "execution_count": 85,
     "metadata": {},
     "output_type": "execute_result"
    }
   ],
   "source": [
    "np.c_[a,b]"
   ]
  },
  {
   "cell_type": "code",
   "execution_count": 86,
   "metadata": {},
   "outputs": [
    {
     "data": {
      "text/plain": [
       "array([[0, 1, 2, 3, 4, 1, 1, 1, 1, 1],\n",
       "       [5, 6, 7, 8, 9, 1, 1, 1, 1, 1]])"
      ]
     },
     "execution_count": 86,
     "metadata": {},
     "output_type": "execute_result"
    }
   ],
   "source": [
    "np.r_['-1',a,b]"
   ]
  },
  {
   "cell_type": "code",
   "execution_count": 87,
   "metadata": {},
   "outputs": [],
   "source": [
    "a = np.array([1,2,3])"
   ]
  },
  {
   "cell_type": "code",
   "execution_count": 88,
   "metadata": {},
   "outputs": [
    {
     "name": "stdout",
     "output_type": "stream",
     "text": [
      " repeat(a, repeats, axis=None)\n",
      "\n",
      "Repeat elements of an array.\n",
      "\n",
      "Parameters\n",
      "----------\n",
      "a : array_like\n",
      "    Input array.\n",
      "repeats : int or array of ints\n",
      "    The number of repetitions for each element.  `repeats` is broadcasted\n",
      "    to fit the shape of the given axis.\n",
      "axis : int, optional\n",
      "    The axis along which to repeat values.  By default, use the\n",
      "    flattened input array, and return a flat output array.\n",
      "\n",
      "Returns\n",
      "-------\n",
      "repeated_array : ndarray\n",
      "    Output array which has the same shape as `a`, except along\n",
      "    the given axis.\n",
      "\n",
      "See Also\n",
      "--------\n",
      "tile : Tile an array.\n",
      "\n",
      "Examples\n",
      "--------\n",
      ">>> np.repeat(3, 4)\n",
      "array([3, 3, 3, 3])\n",
      ">>> x = np.array([[1,2],[3,4]])\n",
      ">>> np.repeat(x, 2)\n",
      "array([1, 1, 2, 2, 3, 3, 4, 4])\n",
      ">>> np.repeat(x, 3, axis=1)\n",
      "array([[1, 1, 1, 2, 2, 2],\n",
      "       [3, 3, 3, 4, 4, 4]])\n",
      ">>> np.repeat(x, [1, 2], axis=0)\n",
      "array([[1, 2],\n",
      "       [3, 4],\n",
      "       [3, 4]])\n"
     ]
    }
   ],
   "source": [
    "np.info(np.repeat)"
   ]
  },
  {
   "cell_type": "code",
   "execution_count": 89,
   "metadata": {},
   "outputs": [
    {
     "data": {
      "text/plain": [
       "array([1, 1, 1, 2, 2, 2, 3, 3, 3])"
      ]
     },
     "execution_count": 89,
     "metadata": {},
     "output_type": "execute_result"
    }
   ],
   "source": [
    "np.repeat(a,3)"
   ]
  },
  {
   "cell_type": "code",
   "execution_count": 91,
   "metadata": {},
   "outputs": [
    {
     "data": {
      "text/plain": [
       "array([0, 0, 0, 1, 1, 1, 2, 2, 2, 3, 3, 3, 4, 4, 4, 5, 5, 5, 6, 6, 6, 7, 7,\n",
       "       7, 8, 8, 8])"
      ]
     },
     "execution_count": 91,
     "metadata": {},
     "output_type": "execute_result"
    }
   ],
   "source": [
    "np.repeat(np.arange(9).reshape((3,3)),3)"
   ]
  },
  {
   "cell_type": "code",
   "execution_count": 92,
   "metadata": {},
   "outputs": [
    {
     "data": {
      "text/plain": [
       "array([[0, 0, 0, 1, 1, 1, 2, 2, 2],\n",
       "       [3, 3, 3, 4, 4, 4, 5, 5, 5],\n",
       "       [6, 6, 6, 7, 7, 7, 8, 8, 8]])"
      ]
     },
     "execution_count": 92,
     "metadata": {},
     "output_type": "execute_result"
    }
   ],
   "source": [
    "np.repeat(np.arange(9).reshape((3,3)),3, axis=1)"
   ]
  },
  {
   "cell_type": "code",
   "execution_count": 93,
   "metadata": {},
   "outputs": [
    {
     "data": {
      "text/plain": [
       "array([[0, 1, 2],\n",
       "       [0, 1, 2],\n",
       "       [0, 1, 2],\n",
       "       [3, 4, 5],\n",
       "       [3, 4, 5],\n",
       "       [3, 4, 5],\n",
       "       [6, 7, 8],\n",
       "       [6, 7, 8],\n",
       "       [6, 7, 8]])"
      ]
     },
     "execution_count": 93,
     "metadata": {},
     "output_type": "execute_result"
    }
   ],
   "source": [
    "np.repeat(np.arange(9).reshape((3,3)),3, axis=0)"
   ]
  },
  {
   "cell_type": "code",
   "execution_count": null,
   "metadata": {},
   "outputs": [],
   "source": [
    "a = "
   ]
  }
 ],
 "metadata": {
  "kernelspec": {
   "display_name": "Python 3",
   "language": "python",
   "name": "python3"
  },
  "language_info": {
   "codemirror_mode": {
    "name": "ipython",
    "version": 3
   },
   "file_extension": ".py",
   "mimetype": "text/x-python",
   "name": "python",
   "nbconvert_exporter": "python",
   "pygments_lexer": "ipython3",
   "version": "3.5.2"
  }
 },
 "nbformat": 4,
 "nbformat_minor": 2
}
